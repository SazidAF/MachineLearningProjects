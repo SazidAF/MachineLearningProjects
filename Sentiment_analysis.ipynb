{
  "nbformat": 4,
  "nbformat_minor": 0,
  "metadata": {
    "colab": {
      "provenance": [],
      "include_colab_link": true
    },
    "kernelspec": {
      "name": "python3",
      "display_name": "Python 3"
    },
    "language_info": {
      "name": "python"
    },
    "accelerator": "GPU",
    "gpuClass": "standard"
  },
  "cells": [
    {
      "cell_type": "markdown",
      "metadata": {
        "id": "view-in-github",
        "colab_type": "text"
      },
      "source": [
        "<a href=\"https://colab.research.google.com/github/SazidAF/MachineLearningProjects/blob/main/Sentiment_analysis.ipynb\" target=\"_parent\"><img src=\"https://colab.research.google.com/assets/colab-badge.svg\" alt=\"Open In Colab\"/></a>"
      ]
    },
    {
      "cell_type": "code",
      "source": [
        "!pip install gensim"
      ],
      "metadata": {
        "id": "98cGkQOdl1Nv",
        "colab": {
          "base_uri": "https://localhost:8080/"
        },
        "outputId": "b7c9c70c-ee6a-4676-c9dd-d8fb0d8c1cc2"
      },
      "execution_count": 1,
      "outputs": [
        {
          "output_type": "stream",
          "name": "stdout",
          "text": [
            "Looking in indexes: https://pypi.org/simple, https://us-python.pkg.dev/colab-wheels/public/simple/\n",
            "Requirement already satisfied: gensim in /usr/local/lib/python3.9/dist-packages (3.6.0)\n",
            "Requirement already satisfied: smart-open>=1.2.1 in /usr/local/lib/python3.9/dist-packages (from gensim) (6.3.0)\n",
            "Requirement already satisfied: scipy>=0.18.1 in /usr/local/lib/python3.9/dist-packages (from gensim) (1.10.1)\n",
            "Requirement already satisfied: numpy>=1.11.3 in /usr/local/lib/python3.9/dist-packages (from gensim) (1.22.4)\n",
            "Requirement already satisfied: six>=1.5.0 in /usr/local/lib/python3.9/dist-packages (from gensim) (1.15.0)\n"
          ]
        }
      ]
    },
    {
      "cell_type": "code",
      "source": [
        "!pip install torch torchvision"
      ],
      "metadata": {
        "id": "JICiwYZrZHhx",
        "colab": {
          "base_uri": "https://localhost:8080/"
        },
        "outputId": "f4276282-af51-4d60-dfbe-ddba0e42bcc0"
      },
      "execution_count": 2,
      "outputs": [
        {
          "output_type": "stream",
          "name": "stdout",
          "text": [
            "Looking in indexes: https://pypi.org/simple, https://us-python.pkg.dev/colab-wheels/public/simple/\n",
            "Requirement already satisfied: torch in /usr/local/lib/python3.9/dist-packages (1.13.1+cu116)\n",
            "Requirement already satisfied: torchvision in /usr/local/lib/python3.9/dist-packages (0.14.1+cu116)\n",
            "Requirement already satisfied: typing-extensions in /usr/local/lib/python3.9/dist-packages (from torch) (4.5.0)\n",
            "Requirement already satisfied: numpy in /usr/local/lib/python3.9/dist-packages (from torchvision) (1.22.4)\n",
            "Requirement already satisfied: requests in /usr/local/lib/python3.9/dist-packages (from torchvision) (2.25.1)\n",
            "Requirement already satisfied: pillow!=8.3.*,>=5.3.0 in /usr/local/lib/python3.9/dist-packages (from torchvision) (8.4.0)\n",
            "Requirement already satisfied: urllib3<1.27,>=1.21.1 in /usr/local/lib/python3.9/dist-packages (from requests->torchvision) (1.26.15)\n",
            "Requirement already satisfied: idna<3,>=2.5 in /usr/local/lib/python3.9/dist-packages (from requests->torchvision) (2.10)\n",
            "Requirement already satisfied: certifi>=2017.4.17 in /usr/local/lib/python3.9/dist-packages (from requests->torchvision) (2022.12.7)\n",
            "Requirement already satisfied: chardet<5,>=3.0.2 in /usr/local/lib/python3.9/dist-packages (from requests->torchvision) (4.0.0)\n"
          ]
        }
      ]
    },
    {
      "cell_type": "code",
      "source": [
        "import numpy as np # linear algebra\n",
        "import pandas as pd # data processing, CSV file I/O (e.g. pd.read_csv)\n",
        "import nltk # Tokenizing\n",
        "import matplotlib.pyplot as plt\n",
        "import gensim\n",
        "from gensim.models import Word2Vec"
      ],
      "metadata": {
        "id": "3UgmHsXMty2I"
      },
      "execution_count": 3,
      "outputs": []
    },
    {
      "cell_type": "code",
      "source": [
        "# df = pd.read_csv('/content/drive/MyDrive/movie.csv')\n",
        "df = pd.read_csv('/content/movie.csv')"
      ],
      "metadata": {
        "id": "LkQfLD1XMyZE"
      },
      "execution_count": 4,
      "outputs": []
    },
    {
      "cell_type": "code",
      "source": [
        "df.shape"
      ],
      "metadata": {
        "id": "vVYXRm87NF32",
        "colab": {
          "base_uri": "https://localhost:8080/"
        },
        "outputId": "3b179098-4b0c-4edc-d1d0-46cb7ed2d085"
      },
      "execution_count": 5,
      "outputs": [
        {
          "output_type": "execute_result",
          "data": {
            "text/plain": [
              "(40000, 2)"
            ]
          },
          "metadata": {},
          "execution_count": 5
        }
      ]
    },
    {
      "cell_type": "code",
      "source": [
        "df.head"
      ],
      "metadata": {
        "id": "1dsKZQUtNdv-",
        "colab": {
          "base_uri": "https://localhost:8080/"
        },
        "outputId": "e1f96c8f-e8e0-482c-98fb-172ac511a7e4"
      },
      "execution_count": 6,
      "outputs": [
        {
          "output_type": "execute_result",
          "data": {
            "text/plain": [
              "<bound method NDFrame.head of                                                     text  label\n",
              "0      I grew up (b. 1965) watching and loving the Th...      0\n",
              "1      When I put this movie in my DVD player, and sa...      0\n",
              "2      Why do people who do not know what a particula...      0\n",
              "3      Even though I have great interest in Biblical ...      0\n",
              "4      Im a die hard Dads Army fan and nothing will e...      1\n",
              "...                                                  ...    ...\n",
              "39995  \"Western Union\" is something of a forgotten cl...      1\n",
              "39996  This movie is an incredible piece of work. It ...      1\n",
              "39997  My wife and I watched this movie because we pl...      0\n",
              "39998  When I first watched Flatliners, I was amazed....      1\n",
              "39999  Why would this film be so good, but only gross...      1\n",
              "\n",
              "[40000 rows x 2 columns]>"
            ]
          },
          "metadata": {},
          "execution_count": 6
        }
      ]
    },
    {
      "cell_type": "code",
      "source": [
        "df.isnull().sum() # Count the number of missing or null values in each column"
      ],
      "metadata": {
        "id": "Ff3T1BxWNjdU",
        "colab": {
          "base_uri": "https://localhost:8080/"
        },
        "outputId": "ebc1d0f7-e042-4601-c638-fbbea51ba7c3"
      },
      "execution_count": 7,
      "outputs": [
        {
          "output_type": "execute_result",
          "data": {
            "text/plain": [
              "text     0\n",
              "label    0\n",
              "dtype: int64"
            ]
          },
          "metadata": {},
          "execution_count": 7
        }
      ]
    },
    {
      "cell_type": "code",
      "source": [
        "df['label'].value_counts() # 1 for positive, 0 for negative"
      ],
      "metadata": {
        "id": "xyxZF9cnNkFo",
        "colab": {
          "base_uri": "https://localhost:8080/"
        },
        "outputId": "32fde798-4f59-433b-ee7b-2b73a2590314"
      },
      "execution_count": 8,
      "outputs": [
        {
          "output_type": "execute_result",
          "data": {
            "text/plain": [
              "0    20019\n",
              "1    19981\n",
              "Name: label, dtype: int64"
            ]
          },
          "metadata": {},
          "execution_count": 8
        }
      ]
    },
    {
      "cell_type": "code",
      "source": [
        "# we are using dropping here to deal with missing values Because the dataset is large and almost no values are missing (none)\n",
        "for column in df.columns:\n",
        "    df = df.dropna(subset=[column]) # This drops the rows that does not have a label that is 0 or 1"
      ],
      "metadata": {
        "id": "SagpbzPtNnJz"
      },
      "execution_count": 9,
      "outputs": []
    },
    {
      "cell_type": "code",
      "source": [
        "df['text']"
      ],
      "metadata": {
        "id": "jrm4T2yVP-HA",
        "colab": {
          "base_uri": "https://localhost:8080/"
        },
        "outputId": "b847cd58-f47d-4868-d3d9-3c03f7d5090d"
      },
      "execution_count": 10,
      "outputs": [
        {
          "output_type": "execute_result",
          "data": {
            "text/plain": [
              "0        I grew up (b. 1965) watching and loving the Th...\n",
              "1        When I put this movie in my DVD player, and sa...\n",
              "2        Why do people who do not know what a particula...\n",
              "3        Even though I have great interest in Biblical ...\n",
              "4        Im a die hard Dads Army fan and nothing will e...\n",
              "                               ...                        \n",
              "39995    \"Western Union\" is something of a forgotten cl...\n",
              "39996    This movie is an incredible piece of work. It ...\n",
              "39997    My wife and I watched this movie because we pl...\n",
              "39998    When I first watched Flatliners, I was amazed....\n",
              "39999    Why would this film be so good, but only gross...\n",
              "Name: text, Length: 40000, dtype: object"
            ]
          },
          "metadata": {},
          "execution_count": 10
        }
      ]
    },
    {
      "cell_type": "code",
      "source": [
        "nltk.download('punkt')\n",
        "nltk.download('stopwords')\n",
        "from nltk.corpus import stopwords\n",
        "english_stopwords = set(stopwords.words('english'))\n",
        "\n"
      ],
      "metadata": {
        "id": "acY5NZTTNqet",
        "colab": {
          "base_uri": "https://localhost:8080/"
        },
        "outputId": "63b8cbe1-9a58-460d-8398-4e6f9bbf8f4b"
      },
      "execution_count": 11,
      "outputs": [
        {
          "output_type": "stream",
          "name": "stderr",
          "text": [
            "[nltk_data] Downloading package punkt to /root/nltk_data...\n",
            "[nltk_data]   Unzipping tokenizers/punkt.zip.\n",
            "[nltk_data] Downloading package stopwords to /root/nltk_data...\n",
            "[nltk_data]   Unzipping corpora/stopwords.zip.\n"
          ]
        }
      ]
    },
    {
      "cell_type": "code",
      "source": [
        "nltk.download('wordnet')\n",
        "nltk.download('omw-1.4')\n",
        "nltk.download('averaged_perceptron_tagger')\n",
        "\n",
        "from nltk.tokenize import word_tokenize\n",
        "from nltk.stem import WordNetLemmatizer\n",
        "lemmatizer = WordNetLemmatizer()"
      ],
      "metadata": {
        "id": "ffOI1W3ePte9",
        "colab": {
          "base_uri": "https://localhost:8080/"
        },
        "outputId": "8b582051-28c2-4d28-da46-2854523e6ff0"
      },
      "execution_count": 12,
      "outputs": [
        {
          "output_type": "stream",
          "name": "stderr",
          "text": [
            "[nltk_data] Downloading package wordnet to /root/nltk_data...\n",
            "[nltk_data] Downloading package omw-1.4 to /root/nltk_data...\n",
            "[nltk_data] Downloading package averaged_perceptron_tagger to\n",
            "[nltk_data]     /root/nltk_data...\n",
            "[nltk_data]   Unzipping taggers/averaged_perceptron_tagger.zip.\n"
          ]
        }
      ]
    },
    {
      "cell_type": "code",
      "source": [
        "df = df[:1000]"
      ],
      "metadata": {
        "id": "n62THTNncMrD"
      },
      "execution_count": 13,
      "outputs": []
    },
    {
      "cell_type": "code",
      "source": [
        "text = df['text'].to_list()"
      ],
      "metadata": {
        "id": "hkdKH_XmQFi9"
      },
      "execution_count": 14,
      "outputs": []
    },
    {
      "cell_type": "code",
      "source": [
        "text[0]"
      ],
      "metadata": {
        "id": "GAPS7LZ9QJIL",
        "colab": {
          "base_uri": "https://localhost:8080/",
          "height": 105
        },
        "outputId": "cdd8b628-54bc-4174-f5f9-778ce4a6c558"
      },
      "execution_count": 15,
      "outputs": [
        {
          "output_type": "execute_result",
          "data": {
            "text/plain": [
              "'I grew up (b. 1965) watching and loving the Thunderbirds. All my mates at school watched. We played \"Thunderbirds\" before school, during lunch and after school. We all wanted to be Virgil or Scott. No one wanted to be Alan. Counting down from 5 became an art form. I took my children to see the movie hoping they would get a glimpse of what I loved as a child. How bitterly disappointing. The only high point was the snappy theme tune. Not that it could compare with the original score of the Thunderbirds. Thankfully early Saturday mornings one television channel still plays reruns of the series Gerry Anderson and his wife created. Jonatha Frakes should hand in his directors chair, his version was completely hopeless. A waste of film. Utter rubbish. A CGI remake may be acceptable but replacing marionettes with Homo sapiens subsp. sapiens was a huge error of judgment.'"
            ],
            "application/vnd.google.colaboratory.intrinsic+json": {
              "type": "string"
            }
          },
          "metadata": {},
          "execution_count": 15
        }
      ]
    },
    {
      "cell_type": "code",
      "source": [
        "def prep(reviewText):\n",
        "  tokens = nltk.word_tokenize(reviewText)\n",
        "  tokens = [word.lower() for word in tokens if word.isalpha()]\n",
        "  words = tokens[:]\n",
        "  for word in tokens:\n",
        "    if word in english_stopwords:\n",
        "      words.remove(word)\n",
        "  tokens = [lemmatizer.lemmatize(word) for word in words]\n",
        "  \n",
        "  return tokens"
      ],
      "metadata": {
        "id": "UM3VI6w-SZ-y"
      },
      "execution_count": 16,
      "outputs": []
    },
    {
      "cell_type": "code",
      "source": [
        "tokenized_text = text[:]\n",
        "for i, el in enumerate(text):\n",
        "  tokenized_text[i] = prep(el)"
      ],
      "metadata": {
        "id": "Y6PxS0ggNs5B"
      },
      "execution_count": 17,
      "outputs": []
    },
    {
      "cell_type": "code",
      "source": [
        "tokenized_text[0]"
      ],
      "metadata": {
        "id": "7LNzCM2kN1Yh",
        "colab": {
          "base_uri": "https://localhost:8080/"
        },
        "outputId": "e7ec90d4-0aa1-46c9-ff31-9cc60f841876"
      },
      "execution_count": 18,
      "outputs": [
        {
          "output_type": "execute_result",
          "data": {
            "text/plain": [
              "['grew',\n",
              " 'b',\n",
              " 'watching',\n",
              " 'loving',\n",
              " 'thunderbird',\n",
              " 'mate',\n",
              " 'school',\n",
              " 'watched',\n",
              " 'played',\n",
              " 'thunderbird',\n",
              " 'school',\n",
              " 'lunch',\n",
              " 'school',\n",
              " 'wanted',\n",
              " 'virgil',\n",
              " 'scott',\n",
              " 'one',\n",
              " 'wanted',\n",
              " 'alan',\n",
              " 'counting',\n",
              " 'became',\n",
              " 'art',\n",
              " 'form',\n",
              " 'took',\n",
              " 'child',\n",
              " 'see',\n",
              " 'movie',\n",
              " 'hoping',\n",
              " 'would',\n",
              " 'get',\n",
              " 'glimpse',\n",
              " 'loved',\n",
              " 'child',\n",
              " 'bitterly',\n",
              " 'disappointing',\n",
              " 'high',\n",
              " 'point',\n",
              " 'snappy',\n",
              " 'theme',\n",
              " 'tune',\n",
              " 'could',\n",
              " 'compare',\n",
              " 'original',\n",
              " 'score',\n",
              " 'thunderbird',\n",
              " 'thankfully',\n",
              " 'early',\n",
              " 'saturday',\n",
              " 'morning',\n",
              " 'one',\n",
              " 'television',\n",
              " 'channel',\n",
              " 'still',\n",
              " 'play',\n",
              " 'rerun',\n",
              " 'series',\n",
              " 'gerry',\n",
              " 'anderson',\n",
              " 'wife',\n",
              " 'created',\n",
              " 'jonatha',\n",
              " 'frakes',\n",
              " 'hand',\n",
              " 'director',\n",
              " 'chair',\n",
              " 'version',\n",
              " 'completely',\n",
              " 'hopeless',\n",
              " 'waste',\n",
              " 'film',\n",
              " 'utter',\n",
              " 'rubbish',\n",
              " 'cgi',\n",
              " 'remake',\n",
              " 'may',\n",
              " 'acceptable',\n",
              " 'replacing',\n",
              " 'marionette',\n",
              " 'homo',\n",
              " 'sapiens',\n",
              " 'subsp',\n",
              " 'sapiens',\n",
              " 'huge',\n",
              " 'error',\n",
              " 'judgment']"
            ]
          },
          "metadata": {},
          "execution_count": 18
        }
      ]
    },
    {
      "cell_type": "code",
      "source": [
        "max_len = max(len(seq) for seq in tokenized_text)\n",
        "max_len"
      ],
      "metadata": {
        "id": "q-jwiTQj7AM0",
        "colab": {
          "base_uri": "https://localhost:8080/"
        },
        "outputId": "7f3015b4-9a9f-4c46-9377-2d41de6d1e67"
      },
      "execution_count": 19,
      "outputs": [
        {
          "output_type": "execute_result",
          "data": {
            "text/plain": [
              "558"
            ]
          },
          "metadata": {},
          "execution_count": 19
        }
      ]
    },
    {
      "cell_type": "code",
      "source": [
        "w2vModel = Word2Vec(min_count=1, size=max_len, window=5)\n",
        "w2vModel.build_vocab(tokenized_text)"
      ],
      "metadata": {
        "id": "XaxFVQOsAdc6",
        "colab": {
          "base_uri": "https://localhost:8080/"
        },
        "outputId": "0fd96e21-441f-45de-e9b1-344efe8a3fd3"
      },
      "execution_count": 20,
      "outputs": [
        {
          "output_type": "stream",
          "name": "stderr",
          "text": [
            "WARNING:gensim.models.base_any2vec:consider setting layer size to a multiple of 4 for greater performance\n"
          ]
        }
      ]
    },
    {
      "cell_type": "code",
      "source": [
        "print(list(w2vModel.wv.vocab.items())[:20])\n",
        "print(type(w2vModel.wv.vocab))"
      ],
      "metadata": {
        "id": "QUBlky1oArsW",
        "colab": {
          "base_uri": "https://localhost:8080/"
        },
        "outputId": "45d074fb-291d-453b-b3a3-fc64b14ffd7e"
      },
      "execution_count": 21,
      "outputs": [
        {
          "output_type": "stream",
          "name": "stdout",
          "text": [
            "[('grew', <gensim.models.keyedvectors.Vocab object at 0x7f3c5ff45190>), ('b', <gensim.models.keyedvectors.Vocab object at 0x7f3c5ff45490>), ('watching', <gensim.models.keyedvectors.Vocab object at 0x7f3c5ff45220>), ('loving', <gensim.models.keyedvectors.Vocab object at 0x7f3c5ff45e50>), ('thunderbird', <gensim.models.keyedvectors.Vocab object at 0x7f3c5ff45f10>), ('mate', <gensim.models.keyedvectors.Vocab object at 0x7f3c5ff45f70>), ('school', <gensim.models.keyedvectors.Vocab object at 0x7f3c5ff45f40>), ('watched', <gensim.models.keyedvectors.Vocab object at 0x7f3c5ae1f070>), ('played', <gensim.models.keyedvectors.Vocab object at 0x7f3c5ae1f0d0>), ('lunch', <gensim.models.keyedvectors.Vocab object at 0x7f3c5ae1f130>), ('wanted', <gensim.models.keyedvectors.Vocab object at 0x7f3c5ae1f190>), ('virgil', <gensim.models.keyedvectors.Vocab object at 0x7f3c5ae1f1f0>), ('scott', <gensim.models.keyedvectors.Vocab object at 0x7f3c5ae1f250>), ('one', <gensim.models.keyedvectors.Vocab object at 0x7f3c5ae1f2b0>), ('alan', <gensim.models.keyedvectors.Vocab object at 0x7f3c5ae1f310>), ('counting', <gensim.models.keyedvectors.Vocab object at 0x7f3c5ae1f370>), ('became', <gensim.models.keyedvectors.Vocab object at 0x7f3c5ae1f3d0>), ('art', <gensim.models.keyedvectors.Vocab object at 0x7f3c5ae1f430>), ('form', <gensim.models.keyedvectors.Vocab object at 0x7f3c5ae1f490>), ('took', <gensim.models.keyedvectors.Vocab object at 0x7f3c5ae1f4f0>)]\n",
            "<class 'dict'>\n"
          ]
        }
      ]
    },
    {
      "cell_type": "code",
      "source": [
        "w2vModel.train(tokenized_text, total_examples=w2vModel.corpus_count, epochs=w2vModel.epochs)"
      ],
      "metadata": {
        "id": "51S1-c9LUPJN",
        "colab": {
          "base_uri": "https://localhost:8080/"
        },
        "outputId": "23893456-b656-42b5-b321-0a4b47147fc8"
      },
      "execution_count": 22,
      "outputs": [
        {
          "output_type": "execute_result",
          "data": {
            "text/plain": [
              "(565649, 611835)"
            ]
          },
          "metadata": {},
          "execution_count": 22
        }
      ]
    },
    {
      "cell_type": "code",
      "source": [
        "w2vModel.wv[tokenized_text[0][0]]"
      ],
      "metadata": {
        "id": "5Mq5rJ-hUhXJ",
        "colab": {
          "base_uri": "https://localhost:8080/"
        },
        "outputId": "54a2c8c7-59c2-435f-9419-afb8d43f2b86"
      },
      "execution_count": 23,
      "outputs": [
        {
          "output_type": "execute_result",
          "data": {
            "text/plain": [
              "array([-1.84498597e-02, -4.48935805e-03, -6.29927367e-02, -1.24959648e-02,\n",
              "       -4.34011519e-02,  4.09505218e-02,  7.83157162e-03,  3.85517254e-02,\n",
              "       -6.65066391e-02,  1.16884178e-02,  3.63344550e-02,  1.01238501e-03,\n",
              "       -2.03976035e-02,  1.22069344e-02, -8.92073289e-03,  6.06069006e-02,\n",
              "        4.08843569e-02, -7.93889072e-03,  2.27746405e-02, -2.08670963e-02,\n",
              "        7.54790604e-02, -2.14037709e-02, -3.85414585e-02,  2.10420694e-02,\n",
              "       -9.64888651e-03, -3.58342528e-02, -2.66724955e-02, -3.28041357e-03,\n",
              "       -2.16959813e-03,  9.06190928e-03,  1.97203383e-02,  3.04416521e-03,\n",
              "        6.83523268e-02, -2.04340126e-02, -4.73972298e-02,  1.94646083e-02,\n",
              "       -1.46795651e-02,  6.98879212e-02,  3.35324928e-03,  8.93194415e-03,\n",
              "        5.58280386e-02, -2.19408311e-02,  1.60374269e-02, -2.23664697e-02,\n",
              "        5.33492165e-03,  5.42208627e-02,  1.36763053e-02,  2.54918505e-02,\n",
              "        3.94192040e-02, -4.43224609e-03, -3.74505892e-02,  4.50456887e-02,\n",
              "       -1.62655693e-02, -3.08945985e-03,  1.68533884e-02,  3.27670649e-02,\n",
              "       -3.20660882e-02,  5.93617478e-05, -2.03908011e-02,  1.28453225e-02,\n",
              "       -6.59213662e-02, -7.78386509e-03, -1.29137626e-02, -2.78268065e-02,\n",
              "        2.89801378e-02,  9.11391079e-02,  4.81478078e-03, -3.34085040e-02,\n",
              "       -1.12176873e-02, -2.75871847e-02, -2.24633403e-02,  1.22364275e-02,\n",
              "       -2.97173169e-02,  1.88549552e-02,  3.58125456e-02, -1.16647584e-02,\n",
              "       -3.50180984e-04,  4.09752578e-02,  9.70683154e-03, -2.79739872e-02,\n",
              "       -6.41758516e-02, -1.03687551e-02,  7.27233524e-03,  5.73506355e-02,\n",
              "       -1.34292031e-02, -1.63440907e-03, -1.36276260e-02,  3.39981169e-02,\n",
              "        4.80288267e-03, -3.42339650e-02, -2.62832176e-02,  3.40959020e-02,\n",
              "        1.45893805e-02, -2.13230941e-02,  2.96927840e-02,  9.48684406e-04,\n",
              "       -9.77111142e-03, -3.16651240e-02, -7.24873599e-03,  4.45799306e-02,\n",
              "       -1.47782331e-02, -2.63257534e-03,  3.14931422e-02,  6.50442094e-02,\n",
              "        3.47641408e-02, -3.93302739e-02,  3.72823104e-02, -1.23148942e-02,\n",
              "       -1.55471712e-02,  1.07532144e-02,  3.45703810e-02, -9.59899835e-03,\n",
              "        4.35482077e-02,  2.70192185e-03, -1.96371973e-02, -8.48092139e-03,\n",
              "       -4.84488606e-02, -1.84340235e-02,  1.84328272e-03, -1.94698386e-02,\n",
              "        2.50849221e-02, -3.51723321e-02,  1.70229468e-02, -8.63248575e-03,\n",
              "        6.46847710e-02, -5.04696108e-02, -1.08530922e-02,  6.58692513e-03,\n",
              "        4.88323644e-02,  2.90121119e-02, -3.49556888e-03, -3.23417932e-02,\n",
              "       -6.39207382e-03,  3.85671528e-03,  8.50144401e-03,  6.99277036e-03,\n",
              "        3.83753475e-04, -3.88918668e-02,  3.25598661e-03, -4.78118621e-02,\n",
              "       -9.83288661e-02,  2.77127083e-02, -1.67670343e-02, -1.61357764e-02,\n",
              "        2.61626504e-02, -4.42795008e-02,  2.77613681e-02,  1.38296038e-02,\n",
              "       -1.01769036e-02,  1.19354548e-02,  1.68714002e-02, -3.09570804e-02,\n",
              "        3.37606929e-02,  2.92852875e-02,  1.30171683e-02, -1.16571914e-02,\n",
              "       -1.66997556e-02, -2.44569499e-02,  4.11260687e-02,  5.43500632e-02,\n",
              "       -2.28975969e-03,  2.83073522e-02,  2.31406484e-02, -1.84282567e-02,\n",
              "       -2.75036190e-02,  9.05015040e-04, -2.99119819e-02, -2.64437832e-02,\n",
              "       -3.11653465e-02, -4.43788320e-02,  2.30657440e-02, -7.31211826e-02,\n",
              "       -2.65101604e-02, -3.75116616e-02,  3.04740667e-03, -2.75345966e-02,\n",
              "       -1.02849593e-02, -2.26559788e-02, -1.00905839e-02, -2.29716599e-02,\n",
              "       -1.24033010e-02, -1.94686055e-02,  2.64365925e-04, -3.97746898e-02,\n",
              "        8.77062045e-03,  2.52104159e-02,  1.80770867e-02, -2.71624196e-02,\n",
              "       -3.98913100e-02, -1.75081585e-02, -5.17437160e-02,  9.06195585e-03,\n",
              "       -1.39153283e-02,  5.15677333e-02, -3.71618792e-02,  2.97098514e-02,\n",
              "       -3.37719992e-02,  1.60624087e-02,  8.50597210e-03,  5.06472439e-02,\n",
              "        2.21558735e-02, -7.76712643e-03,  5.18557383e-03,  4.02566493e-02,\n",
              "       -2.78322268e-02,  8.77628662e-03,  7.55652133e-03,  2.45949905e-02,\n",
              "       -1.58550404e-02,  2.37626564e-02, -3.62374187e-02,  3.13536189e-02,\n",
              "        3.28591466e-02, -1.32382186e-02, -2.36214269e-02, -5.62423617e-02,\n",
              "        9.71903130e-02,  1.98405497e-02,  2.97934227e-02,  2.21110694e-03,\n",
              "        3.38166133e-02,  1.62474085e-02,  4.10672799e-02,  2.42845592e-04,\n",
              "       -3.33190057e-03,  9.96095967e-03, -1.30973291e-02,  2.92931348e-02,\n",
              "        7.95713393e-04,  2.81679947e-02,  5.72563745e-02, -1.05161220e-02,\n",
              "        1.66468825e-02,  1.79288406e-02,  7.67654646e-03, -1.69888530e-02,\n",
              "       -1.52411667e-04,  9.52280592e-03,  3.50582711e-02, -1.46681527e-02,\n",
              "        2.89557111e-02, -5.67585118e-02, -4.29127365e-03,  5.25540449e-02,\n",
              "       -1.34805972e-02,  1.28222201e-02,  1.23042893e-02, -6.12068688e-03,\n",
              "        3.60527411e-02,  3.74568850e-02,  4.59280498e-02, -1.50394086e-02,\n",
              "        4.60352972e-02, -1.57069042e-02, -1.53621640e-02, -4.20761704e-02,\n",
              "        4.56452779e-02, -7.20942626e-04,  1.32721355e-02,  2.08600461e-02,\n",
              "        1.94001216e-02,  7.51346648e-02,  7.47931562e-03, -3.86625044e-02,\n",
              "       -1.22347986e-02, -2.46820915e-02,  1.30694918e-02,  8.32275487e-03,\n",
              "        2.33139917e-02, -4.64419238e-02, -4.26224433e-02,  2.29492262e-02,\n",
              "       -4.05645818e-02, -7.18239788e-03,  2.75693834e-02, -6.92244768e-02,\n",
              "       -3.33017893e-02,  4.55378443e-02,  3.08911083e-03, -1.24733979e-02,\n",
              "       -2.29680166e-03,  3.98129337e-02,  1.72663983e-02,  6.72434410e-03,\n",
              "        9.09907371e-02,  3.80487218e-02,  5.38200252e-02,  5.90821449e-03,\n",
              "       -6.04738742e-02, -4.03512418e-02, -8.67145788e-03, -6.27443101e-03,\n",
              "        5.86936139e-02, -8.65739677e-03,  1.79848466e-02, -4.10976522e-02,\n",
              "        2.82522012e-02,  4.76671830e-02, -6.05600663e-02, -1.11508761e-02,\n",
              "        4.96626412e-03,  2.09394805e-02,  3.70042701e-03, -6.45599887e-02,\n",
              "        1.49643337e-02,  2.05757990e-02,  2.10384540e-02, -3.67080718e-02,\n",
              "        1.28794564e-02, -6.94150254e-02, -4.36105132e-02, -1.47286701e-04,\n",
              "       -2.83631347e-02, -2.86304648e-03,  4.00222354e-02, -1.92259066e-02,\n",
              "        2.78981924e-02, -2.09317170e-02,  2.34403126e-02,  5.37260026e-02,\n",
              "       -1.40528027e-02,  4.45858343e-03,  3.46614532e-02, -4.70995195e-02,\n",
              "       -1.04572058e-01, -3.78759131e-02, -8.22188857e-04,  4.66692261e-03,\n",
              "        3.97027982e-03,  1.59304552e-02, -5.70118278e-02, -2.82341223e-02,\n",
              "       -1.53823700e-02,  1.50520708e-02, -8.03851895e-03, -2.91763600e-02,\n",
              "        1.05212610e-02, -2.20747869e-02,  3.44117172e-02,  8.13802890e-03,\n",
              "        1.97520669e-04, -4.83882129e-02, -2.11940072e-02, -3.20400521e-02,\n",
              "       -1.75899714e-02,  6.07340448e-02,  5.43396026e-02,  2.61490364e-02,\n",
              "       -5.73768327e-03, -1.18757859e-02,  2.51640584e-02, -2.62445528e-02,\n",
              "        3.57164182e-02,  1.96390902e-03,  7.77249187e-02,  7.34152347e-02,\n",
              "        1.65278045e-03, -2.33138371e-02, -4.36897622e-03, -3.35582905e-02,\n",
              "        1.11966720e-02, -1.09822303e-02,  9.64740478e-03,  1.53133757e-02,\n",
              "       -1.61807553e-03, -4.16808985e-02,  3.10077704e-03, -9.43421677e-04,\n",
              "        1.03392275e-02,  4.04976541e-03, -1.66407377e-02, -2.92161796e-02,\n",
              "       -2.13312134e-02,  4.99227317e-03,  9.03059728e-03, -6.19596429e-03,\n",
              "        2.45531294e-02,  1.32529866e-02,  5.71370777e-03, -1.48846349e-03,\n",
              "       -4.44280319e-02,  2.01052427e-02,  4.34631035e-02, -6.04357943e-02,\n",
              "        9.46842250e-04, -3.26418243e-02, -3.08112204e-02, -2.79490892e-02,\n",
              "       -3.29391807e-02,  1.27422372e-02,  6.86360896e-02, -2.50176936e-02,\n",
              "       -5.00972010e-02, -1.30475052e-02,  1.72651019e-02, -2.33373162e-03,\n",
              "        1.31017864e-02,  2.38845311e-02, -2.23367140e-02,  2.71707028e-02,\n",
              "       -9.02497768e-03, -2.36661918e-02,  1.16769681e-02,  5.57036139e-02,\n",
              "       -5.48318140e-02, -1.15562389e-02,  2.29365546e-02,  2.83528324e-02,\n",
              "       -1.94619398e-03, -3.47892903e-02, -1.94200836e-02, -1.12642506e-02,\n",
              "        2.22217031e-02, -2.58709863e-02, -3.38001107e-03, -4.40169610e-02,\n",
              "        1.77047625e-02,  2.03026515e-02, -2.69454508e-03, -3.93879265e-02,\n",
              "        7.15436116e-02,  8.48650653e-03,  6.04436211e-02, -1.45496735e-02,\n",
              "       -2.13289373e-02, -1.53584196e-03, -6.68703718e-03, -5.26977144e-03,\n",
              "        3.19227553e-03,  6.16012588e-02, -6.73358515e-03, -1.10700037e-02,\n",
              "        2.60407338e-03, -1.38733257e-03, -2.39497088e-02,  5.65283746e-03,\n",
              "       -2.05665343e-02, -2.43691131e-02, -1.54641839e-02, -1.59783382e-03,\n",
              "       -2.53701787e-02,  4.80007976e-02,  1.01614194e-02,  4.17420790e-02,\n",
              "        6.53057965e-03, -2.00817902e-02, -4.10748422e-02, -1.71840731e-02,\n",
              "        2.31437031e-02,  1.72147863e-02,  2.71387063e-02, -1.46763697e-02,\n",
              "        4.43578511e-03,  5.55403419e-02, -1.41159231e-02, -4.42820117e-02,\n",
              "       -3.00493296e-02, -5.55294789e-02, -1.52916210e-02, -5.94066828e-03,\n",
              "        1.84220765e-02, -2.53649577e-02,  4.23167180e-03, -2.60009114e-02,\n",
              "       -4.86398377e-02,  7.12345541e-03, -2.66281236e-02, -5.87733909e-02,\n",
              "       -8.50682706e-03, -2.26875115e-02, -1.83656961e-02, -1.58666056e-02,\n",
              "        2.77776998e-02,  5.83203174e-02, -1.96901690e-02,  3.43727134e-02,\n",
              "        1.85874812e-02,  2.02394370e-03,  6.20636158e-02, -3.63725796e-03,\n",
              "        4.97413352e-02,  1.98169090e-02,  4.24277671e-02,  7.42827356e-02,\n",
              "        3.52624580e-02,  1.13427527e-02, -4.21037711e-02,  2.08392087e-02,\n",
              "       -1.51424929e-02,  1.44851450e-02, -5.74812330e-02, -4.46756892e-02,\n",
              "        1.68619435e-02,  1.79272611e-02,  3.66750844e-02,  3.14134248e-02,\n",
              "       -6.31183013e-03,  2.78808102e-02,  3.45770195e-02, -2.34879963e-02,\n",
              "        1.99700575e-02, -3.27845737e-02,  2.28103786e-03,  5.36404848e-02,\n",
              "        2.70474497e-02, -5.44412527e-03, -7.00345263e-03,  9.09235794e-03,\n",
              "        7.14943856e-02,  1.93044897e-02,  5.46743209e-03,  1.62770296e-03,\n",
              "        2.24823020e-02,  2.05565803e-02,  3.07476241e-02, -2.76535116e-02,\n",
              "        4.00722735e-02,  6.27817512e-02, -1.21255061e-02,  1.69382580e-02,\n",
              "        4.76899790e-04, -2.29107887e-02,  2.98667084e-02, -1.46752233e-02,\n",
              "        1.35216117e-02, -3.25126499e-02,  4.47935648e-02,  4.60792817e-02,\n",
              "        4.83297370e-02,  5.85215800e-02, -1.10217696e-02,  2.94007063e-02,\n",
              "       -2.63475608e-02, -6.90322146e-02, -3.54096666e-02, -8.90413579e-03,\n",
              "        6.09845668e-03, -1.65002532e-02,  3.10825966e-02,  1.98319387e-02,\n",
              "        3.78029794e-02,  1.56593397e-02,  1.98966693e-02, -6.26060180e-03,\n",
              "       -4.59494181e-02, -2.70256903e-02, -1.24251060e-02,  2.80485824e-02,\n",
              "        1.37225334e-02, -2.75636502e-02,  4.35019545e-02, -3.13323438e-02,\n",
              "       -3.05892471e-02, -1.88587420e-02,  1.14736622e-02,  1.22497398e-02,\n",
              "        1.08759981e-02,  2.53564306e-02], dtype=float32)"
            ]
          },
          "metadata": {},
          "execution_count": 23
        }
      ]
    },
    {
      "cell_type": "code",
      "source": [
        "label = df['label'].to_list()"
      ],
      "metadata": {
        "id": "a8_SdK49Y--V"
      },
      "execution_count": 24,
      "outputs": []
    },
    {
      "cell_type": "code",
      "source": [
        "import torch\n",
        "import torch.nn as nn\n",
        "import torch.optim as optim"
      ],
      "metadata": {
        "id": "f-4lmhayZElJ"
      },
      "execution_count": 25,
      "outputs": []
    },
    {
      "cell_type": "code",
      "source": [
        "vectorized_text = np.zeros((len(tokenized_text), max_len))\n",
        "for i, tokens in enumerate(tokenized_text):\n",
        "    for j, token in enumerate(tokens):\n",
        "        vectorized_text[i,j] = w2vModel.wv[token][0]\n"
      ],
      "metadata": {
        "id": "nhvRmBFPWlgE"
      },
      "execution_count": 26,
      "outputs": []
    },
    {
      "cell_type": "code",
      "source": [
        "labels = np.array(label)"
      ],
      "metadata": {
        "id": "pQ_i-LZSVmYZ"
      },
      "execution_count": 27,
      "outputs": []
    },
    {
      "cell_type": "code",
      "source": [
        "n = len(vectorized_text)\n",
        "idx = np.random.permutation(n)\n",
        "train_idx, val_idx, test_idx = idx[:int(0.6*n)], idx[int(0.6*n):int(0.8*n)], idx[int(0.8*n):]\n",
        "X_train, X_val, X_test = vectorized_text[train_idx], vectorized_text[val_idx], vectorized_text[test_idx]\n",
        "y_train, y_val, y_test = labels[train_idx], labels[val_idx], labels[test_idx]"
      ],
      "metadata": {
        "id": "ZuQTbHs_PRUu"
      },
      "execution_count": 28,
      "outputs": []
    },
    {
      "cell_type": "code",
      "source": [
        "input_size = max_len\n",
        "hidden_size = 128\n",
        "output_size = 2\n",
        "num_layers = 2\n",
        "learning_rate = 0.001\n",
        "num_epochs = 10\n",
        "batch_size = 32"
      ],
      "metadata": {
        "id": "CUC-csqRmpM9"
      },
      "execution_count": 29,
      "outputs": []
    },
    {
      "cell_type": "code",
      "source": [
        "class RNN(nn.Module):\n",
        "    def __init__(self, input_size, hidden_size, num_layers, output_size):\n",
        "        super(RNN, self).__init__()\n",
        "        self.hidden_size = hidden_size\n",
        "        self.num_layers = num_layers\n",
        "        self.rnn = nn.RNN(input_size, hidden_size, num_layers, batch_first=True)\n",
        "        self.fc = nn.Linear(hidden_size, output_size)\n",
        "\n",
        "    def forward(self, x):\n",
        "        h0 = torch.zeros(self.num_layers, x.size(0), self.hidden_size).to(x.device).contiguous()\n",
        "        out, _ = self.rnn(x, h0)\n",
        "        out = self.fc(out[:, -1, :])\n",
        "        return out\n"
      ],
      "metadata": {
        "id": "0VmcIG-LzE1t"
      },
      "execution_count": 30,
      "outputs": []
    },
    {
      "cell_type": "code",
      "source": [
        "model = RNN(input_size, hidden_size, num_layers, output_size)"
      ],
      "metadata": {
        "id": "wwK5q9hNDb8p"
      },
      "execution_count": 31,
      "outputs": []
    },
    {
      "cell_type": "code",
      "source": [
        "X_train"
      ],
      "metadata": {
        "id": "kKsoyn5PE50D",
        "colab": {
          "base_uri": "https://localhost:8080/"
        },
        "outputId": "5090baaa-9fc6-4ab6-aa9e-c914f077a010"
      },
      "execution_count": 32,
      "outputs": [
        {
          "output_type": "execute_result",
          "data": {
            "text/plain": [
              "array([[-0.07517263, -0.04115251, -0.03320409, ...,  0.        ,\n",
              "         0.        ,  0.        ],\n",
              "       [-0.06314987, -0.21273158, -0.17284973, ...,  0.        ,\n",
              "         0.        ,  0.        ],\n",
              "       [-0.16375427, -0.11278655, -0.21640123, ...,  0.        ,\n",
              "         0.        ,  0.        ],\n",
              "       ...,\n",
              "       [-0.0015028 , -0.03823052, -0.00563887, ...,  0.        ,\n",
              "         0.        ,  0.        ],\n",
              "       [-0.02269534, -0.12160052, -0.0182781 , ...,  0.        ,\n",
              "         0.        ,  0.        ],\n",
              "       [-0.14374173, -0.05762868, -0.01031788, ...,  0.        ,\n",
              "         0.        ,  0.        ]])"
            ]
          },
          "metadata": {},
          "execution_count": 32
        }
      ]
    },
    {
      "cell_type": "code",
      "source": [
        "X_train_tensor, y_train_tensor = torch.from_numpy(X_train).float().unsqueeze(1), torch.from_numpy(y_train)"
      ],
      "metadata": {
        "id": "66YDbzr3FHyZ"
      },
      "execution_count": 33,
      "outputs": []
    },
    {
      "cell_type": "code",
      "source": [
        "X_train_tensor.dim()"
      ],
      "metadata": {
        "id": "JS2nTNrLicPh",
        "colab": {
          "base_uri": "https://localhost:8080/"
        },
        "outputId": "2955e7f0-cd22-4a17-fc27-a3823343c950"
      },
      "execution_count": 34,
      "outputs": [
        {
          "output_type": "execute_result",
          "data": {
            "text/plain": [
              "3"
            ]
          },
          "metadata": {},
          "execution_count": 34
        }
      ]
    },
    {
      "cell_type": "code",
      "source": [
        "train_dataset = torch.utils.data.TensorDataset(X_train_tensor, y_train_tensor)\n",
        "train_loader = torch.utils.data.DataLoader(train_dataset, batch_size=batch_size, shuffle=True)"
      ],
      "metadata": {
        "id": "uxvvcJPgEp3z"
      },
      "execution_count": 35,
      "outputs": []
    },
    {
      "cell_type": "code",
      "source": [
        "optimizer = optim.Adam(model.parameters(), lr=learning_rate)\n",
        "criterion = nn.CrossEntropyLoss()"
      ],
      "metadata": {
        "id": "NQSRGuojFSz_"
      },
      "execution_count": 36,
      "outputs": []
    },
    {
      "cell_type": "code",
      "source": [
        "# Check if GPU is available\n",
        "if torch.cuda.is_available():\n",
        "    device = torch.device(\"cuda\")\n",
        "else:\n",
        "    device = torch.device(\"cpu\")\n"
      ],
      "metadata": {
        "id": "GgEqi-a8Fjig"
      },
      "execution_count": 37,
      "outputs": []
    },
    {
      "cell_type": "code",
      "source": [
        "model.to(device)\n"
      ],
      "metadata": {
        "colab": {
          "base_uri": "https://localhost:8080/"
        },
        "id": "oj7jjF3wm9r5",
        "outputId": "7f8d8deb-ca3a-41b5-a6d1-7aa705b7a02c"
      },
      "execution_count": 39,
      "outputs": [
        {
          "output_type": "execute_result",
          "data": {
            "text/plain": [
              "RNN(\n",
              "  (rnn): RNN(558, 128, num_layers=2, batch_first=True)\n",
              "  (fc): Linear(in_features=128, out_features=2, bias=True)\n",
              ")"
            ]
          },
          "metadata": {},
          "execution_count": 39
        }
      ]
    },
    {
      "cell_type": "code",
      "source": [
        "# Train model\n",
        "for epoch in range(num_epochs):\n",
        "    for batch_idx, (data, target) in enumerate(train_loader):\n",
        "        data, target = data.to(device), target.to(device)\n",
        "        optimizer.zero_grad()\n",
        "        output = model(data)\n",
        "        loss = criterion(output, target)\n",
        "        loss.backward()\n",
        "        optimizer.step()\n",
        "        \n",
        "        if batch_idx % 100 == 0:\n",
        "            print('Epoch {}, Batch {}: Loss = {:.4f}'.format(epoch, batch_idx, loss.item()))"
      ],
      "metadata": {
        "id": "5kefJkZhEX9m",
        "colab": {
          "base_uri": "https://localhost:8080/"
        },
        "outputId": "2899fbc1-f14b-497b-c570-80866c40014d"
      },
      "execution_count": 40,
      "outputs": [
        {
          "output_type": "stream",
          "name": "stdout",
          "text": [
            "Epoch 0, Batch 0: Loss = 0.6970\n",
            "Epoch 1, Batch 0: Loss = 0.6926\n",
            "Epoch 2, Batch 0: Loss = 0.6668\n",
            "Epoch 3, Batch 0: Loss = 0.6338\n",
            "Epoch 4, Batch 0: Loss = 0.5957\n",
            "Epoch 5, Batch 0: Loss = 0.5440\n",
            "Epoch 6, Batch 0: Loss = 0.5384\n",
            "Epoch 7, Batch 0: Loss = 0.6184\n",
            "Epoch 8, Batch 0: Loss = 0.4945\n",
            "Epoch 9, Batch 0: Loss = 0.5334\n"
          ]
        }
      ]
    }
  ]
}